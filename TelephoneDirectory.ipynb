{
 "cells": [
  {
   "cell_type": "code",
   "execution_count": 4,
   "id": "338cf5b5",
   "metadata": {},
   "outputs": [
    {
     "name": "stdout",
     "output_type": "stream",
     "text": [
      "{'_id': 1, 'Name': 'Sakthi', 'Phone_number': 9823623772, 'place': 'chennai', 'state': 'Tamilnadu'}\n",
      "{'_id': 2, 'Name': 'eswaran', 'Phone_number': 9993456782, 'place': 'madurai', 'state': 'Tamilnadu'}\n",
      "{'_id': 3, 'Name': 'Sakshi', 'Phone_number': 9823634569, 'place': 'coimbatore', 'state': 'Tamilnadu'}\n"
     ]
    }
   ],
   "source": [
    "import pymongo\n",
    "client=pymongo.MongoClient('mongodb://localhost:27017/')\n",
    "db=client['TelephoneDirectory']\n",
    "collect1=db['Collection']\n",
    "collect1.insert_one({'_id':1,'Name':\"Sakthi\",'Phone_number':9823623772,\"place\":'chennai',\"state\":\"Tamilnadu\"})\n",
    "collect1.insert_many([{'_id':2,'Name':\"eswaran\",'Phone_number':9993456782,\"place\":'madurai',\"state\":\"Tamilnadu\"},{'_id':3,'Name':\"Sakshi\",'Phone_number':9823634569,\"place\":'coimbatore',\"state\":\"Tamilnadu\"}])\n",
    "for i in collect1.find():\n",
    "    print(i)\n"
   ]
  },
  {
   "cell_type": "code",
   "execution_count": 5,
   "id": "53c8b5d2",
   "metadata": {},
   "outputs": [
    {
     "name": "stdout",
     "output_type": "stream",
     "text": [
      "{'_id': 1, 'Name': 'Sakthi', 'Phone_number': 9823623772, 'place': 'chennai', 'state': 'Tamilnadu'}\n",
      "{'_id': 3, 'Name': 'Sakshi', 'Phone_number': 9823634569, 'place': 'coimbatore', 'state': 'Tamilnadu'}\n"
     ]
    }
   ],
   "source": [
    "collect1.delete_one({'Name':'eswaran'})    \n",
    "for i in collect1.find():\n",
    "    print(i)"
   ]
  },
  {
   "cell_type": "code",
   "execution_count": null,
   "id": "bd105fd8",
   "metadata": {},
   "outputs": [],
   "source": []
  }
 ],
 "metadata": {
  "kernelspec": {
   "display_name": "Python 3 (ipykernel)",
   "language": "python",
   "name": "python3"
  },
  "language_info": {
   "codemirror_mode": {
    "name": "ipython",
    "version": 3
   },
   "file_extension": ".py",
   "mimetype": "text/x-python",
   "name": "python",
   "nbconvert_exporter": "python",
   "pygments_lexer": "ipython3",
   "version": "3.9.12"
  }
 },
 "nbformat": 4,
 "nbformat_minor": 5
}
